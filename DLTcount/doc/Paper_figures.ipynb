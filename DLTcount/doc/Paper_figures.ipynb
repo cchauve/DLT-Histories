{
 "cells": [
  {
   "cell_type": "markdown",
   "metadata": {},
   "source": [
    "# Counting DL and DLT histories\n",
    "### Cedric Chauve, 24/04/2019\n",
    "\n",
    "### Abstract.\n",
    "This notebook contains the code used to analyse our experimental results and generate figures that are presented in the paper. It also includes additional figures not presented in the paper."
   ]
  },
  {
   "cell_type": "code",
   "execution_count": 1,
   "metadata": {},
   "outputs": [],
   "source": [
    "import csv\n",
    "import pandas as pd\n",
    "import numpy as np\n",
    "import matplotlib.pyplot as plt\n",
    "import gzip\n",
    "import io\n",
    "import math\n",
    "from trees import *"
   ]
  },
  {
   "cell_type": "markdown",
   "metadata": {},
   "source": [
    "## Introduction\n",
    "\n",
    "In this notebook, we consider 4 *models*: unranked DL (*UDL*), ranked Dl (*RDL*), unranked DLT (*UDLT*) and ranked DLT (*RDLT*). For each model, we generated $100$ species tree of size $k$ as follows: the caterpillar, if $k$ is a power of $2$, the compkete binary tree, and the remaining species trees are generated at rendom under the uniform distribution. Note that in this setting, for small values of $k$, some species trees are generated several times. Moreover, in the two ranked model, for each species tree, we generated $10$ random rankings, again chosen under the uniform distribution. Finally for each input (to be understood as a species tree $S$ of size $k$, together with a ranking if we are in a ranked model), we counted the number of histories (in the chosen model) of size $n$. Our range parameter is $k \\in [3,25]$ and $n\\in [1,50]$."
   ]
  },
  {
   "cell_type": "code",
   "execution_count": 2,
   "metadata": {},
   "outputs": [],
   "source": [
    "# Parameters\n",
    "\n",
    "# Number of species trees per size\n",
    "NB_S_TREES    = 100\n",
    "S_TREES_INDEX = [i for i in range(0,NB_S_TREES)]\n",
    "# Evolutionary models\n",
    "EVOL_MODELS = [('U','DL'),('U','DLT'),('R','DL'),('R','DLT')]\n",
    "MODEL2LEGEND = {'U_DL': 'UDL model',\n",
    "                'U_DLT': 'UDLT model',\n",
    "                'R_DL': 'RDL model',\n",
    "                'R_DLT': 'RDLT model'}\n",
    "# Species tree sizes\n",
    "K_MIN = 3\n",
    "K_MAX = 25 \n",
    "K_LIST = [k for k in range(K_MIN,K_MAX+1)]\n",
    "# Histories sizes\n",
    "N_MIN = 1\n",
    "N_MAX = 50\n",
    "N_LIST = [n for n in range(N_MIN,N_MAX+1)]\n",
    "# Paths to results\n",
    "PREFIX_UNRANKED    = '../exp/unranked/results_unranked'\n",
    "PREFIX_RANKED      = '../exp/ranked/results_ranked'\n",
    "PREFIX_ASYMPTOTICS = '../exp/asymptotics/asymptotics_DL'\n",
    "PREFIX_SCORES      = '../exp/sampling/samples'\n",
    "PREFIX_TREES       = '../exp/trees/trees'\n",
    "# Rankings\n",
    "R_MAX  = 10\n",
    "R_LIST = [r for r in range(1,R_MAX+1)]"
   ]
  },
  {
   "cell_type": "code",
   "execution_count": 3,
   "metadata": {},
   "outputs": [],
   "source": [
    "# Subset of the parameter space for more readable figures\n",
    "K_LIST_REDUCED = [10,15,20,25]\n",
    "K_LIST_POW2    = [4,8,16]\n",
    "N_LIST_REDUCED = [10,20,30,40,50]"
   ]
  },
  {
   "cell_type": "code",
   "execution_count": 4,
   "metadata": {},
   "outputs": [],
   "source": [
    "# Reading the trees\n",
    "\n",
    "TREES_dict = {k:{} for k in K_LIST}\n",
    "\n",
    "def read_trees_file(fileName):\n",
    "    treesFile = open(fileName,'r').readlines()\n",
    "    for row in treesFile:\n",
    "        if row[0] != '#':\n",
    "            row1 = row.rstrip().split('\\t')\n",
    "            k = int(row1[0])\n",
    "            treeIndex = int(row1[1])\n",
    "            treeNewick = row1[2]\n",
    "            tree = newick2Tree(treeNewick)\n",
    "            labelTree(tree)\n",
    "            TREES_dict[k][treeIndex] = tree\n",
    "            \n",
    "for k in K_LIST:\n",
    "    read_trees_file(PREFIX_TREES+'_'+str(k))"
   ]
  },
  {
   "cell_type": "code",
   "execution_count": 5,
   "metadata": {},
   "outputs": [],
   "source": [
    "# Reading the exact counting results\n",
    "# Format: RESULTS_ALL[evol_model][s][n][tree_index] is \n",
    "# the list of the number of histories of size n for tree tree_index of size s in model evol_model \n",
    "# the list is of size 1 if the tree is unranked\n",
    "\n",
    "RESULTS_aux = {m:{k:{n:{t:[] for t in S_TREES_INDEX} for n in N_LIST}  for k in K_LIST} for m in EVOL_MODELS}\n",
    "    \n",
    "def read_counting_file(fileName,k):\n",
    "    with gzip.open(fileName, 'r') as f:\n",
    "        reader = csv.reader(io.TextIOWrapper(f, newline=\"\"),delimiter='\\t')        \n",
    "        for row in reader:\n",
    "            if row[0][0]!='#':\n",
    "                model     = (row[2],row[3])\n",
    "                treeIndex = int(row[1])\n",
    "                row5      = row[5].split()\n",
    "                for n in N_LIST:\n",
    "                    RESULTS_aux[model][k][n][treeIndex].append(int(row5[n-1]))\n",
    "    \n",
    "for k in K_LIST:\n",
    "    read_counting_file(PREFIX_UNRANKED+'_'+str(k)+'.gz',k)\n",
    "    read_counting_file(PREFIX_RANKED+'_'+str(k)+'.gz',k)\n",
    "                            \n",
    "RESULTS_COUNTING = pd.DataFrame.from_dict({(m,k,n): RESULTS_aux[m][k][n]\n",
    "                                            for m in RESULTS_aux.keys() \n",
    "                                            for k in RESULTS_aux[m].keys()\n",
    "                                            for n in RESULTS_aux[m][k].keys()},\n",
    "                                            orient='index')"
   ]
  },
  {
   "cell_type": "code",
   "execution_count": 6,
   "metadata": {},
   "outputs": [],
   "source": [
    "# Reading the exact asymptotics (growth factor) results for the model UDL\n",
    "\n",
    "RESULTS_aux = {k:{t:0 for t in S_TREES_INDEX}  for k in K_LIST}\n",
    "for k in K_LIST:\n",
    "    dataAsympt = open(PREFIX_ASYMPTOTICS+'_'+str(k)).readlines()\n",
    "    for row in dataAsympt:\n",
    "        if row[0] != '#':\n",
    "            row1        = row.rstrip().split('\\t')\n",
    "            treeIndex   = int(row1[1])\n",
    "            asymptotics =  float(row1[3])\n",
    "            RESULTS_aux[k][treeIndex] = asymptotics\n",
    "RESULTS_ASYMPTOTICS_U_DL = pd.DataFrame.from_dict({(k): RESULTS_aux[k]\n",
    "                                                for k in RESULTS_aux.keys()},\n",
    "                                                orient='index')"
   ]
  },
  {
   "cell_type": "markdown",
   "metadata": {},
   "source": [
    "## Asymptotics in the unranked DL model\n",
    "\n",
    "We first look at the simplest model, the U-DL model, where we can obtain theortical asymptotics estimates. Here we assume that for a given species tree $S$ and a given history size $n$, we have\n",
    "$$h_S(n) \\simeq \\gamma_S \\frac{\\alpha_S^n}{n^{3/2}}\\left(1+O\\left(\\frac{1}{n}\\right)\\right).$$\n",
    "We call $\\alpha_S$ the *growth factor* and $\\gamma_S$ the *constant*."
   ]
  },
  {
   "cell_type": "code",
   "execution_count": 7,
   "metadata": {},
   "outputs": [
    {
     "data": {
      "text/plain": [
       "<Figure size 432x288 with 0 Axes>"
      ]
     },
     "metadata": {},
     "output_type": "display_data"
    },
    {
     "data": {
      "image/png": "[encoded data removed]",
      "text/plain": [
       "<Figure size 864x576 with 1 Axes>"
      ]
     },
     "metadata": {},
     "output_type": "display_data"
    }
   ],
   "source": [
    "plt.figure()\n",
    "ax_asympt1 = RESULTS_ASYMPTOTICS_U_DL.transpose().plot(kind='box', grid=True, return_type='axes', figsize=(12,8), title='Exact growth factor in the UDL model', fontsize=14)\n",
    "ax_asympt1.title.set_size(18)\n",
    "ax_asympt1.set_ylabel('Growth factor', fontsize=16)\n",
    "ax_asympt1.set_xlabel('Species tree size k', fontsize=16)\n",
    "plt.savefig('figures/computed_growth_factor_U_DL.png')\n",
    "plt.show()"
   ]
  },
  {
   "cell_type": "markdown",
   "metadata": {},
   "source": [
    "We can observe that the minimum and median value seem to grow linearly, while the max value seems to grow non-linearly. Note however that this is over a sample of species tree so the results might not be extremely robust for larger values of $k$. "
   ]
  },
  {
   "cell_type": "markdown",
   "metadata": {},
   "source": [
    "### Conjecture 4.1\n",
    "\n",
    "We are now looking at the species tree that leads to extreme growth factor, toward providing support for Conjecture 4.1 of the paper that we restate now.\n",
    "\n",
    "*Conjecture 4.1.* For a given $k$, and $n$ large enough, the unranked species tree of size $k$ having the largest number of DL-histories of size $n$ is the caterpillar tree; moreover the exponential growth factor of the number of histories for a caterpillar of size $k$ grows quadratically as a function of $k$. Species trees having the smallest number of DL-histories are balanced species trees of size $k$; moreover the exponential growth factor of the number of histories for a balanced tree of size $k$ grows linearly as a function of $k$."
   ]
  },
  {
   "cell_type": "code",
   "execution_count": 61,
   "metadata": {},
   "outputs": [
    {
     "name": "stdout",
     "output_type": "stream",
     "text": [
      "Checking, for each value of k, if the species tree with maximum (resp. minimum) growth factor is a caterpillar (resp. balanced).\n",
      "k = 3: the species tree with max. growth constant is the caterpillar\n",
      "k = 3: the species tree with min. growth constant is balanced\n",
      "k = 4: the species tree with max. growth constant is the caterpillar\n",
      "k = 4: the species tree with min. growth constant is balanced\n",
      "k = 5: the species tree with max. growth constant is the caterpillar\n",
      "k = 5: the species tree with min. growth constant is balanced\n",
      "k = 6: the species tree with max. growth constant is the caterpillar\n",
      "k = 6: the species tree with min. growth constant is balanced\n",
      "k = 7: the species tree with max. growth constant is the caterpillar\n",
      "k = 7: the species tree with min. growth constant is balanced\n",
      "k = 8: the species tree with max. growth constant is the caterpillar\n",
      "k = 8: the species tree with min. growth constant is balanced\n",
      "k = 9: the species tree with max. growth constant is the caterpillar\n",
      "k = 9: the species tree with min. growth constant is balanced\n",
      "k = 10: the species tree with max. growth constant is the caterpillar\n",
      "k = 10: the species tree with min. growth constant is balanced\n",
      "k = 11: the species tree with max. growth constant is the caterpillar\n",
      "k = 12: the species tree with max. growth constant is the caterpillar\n",
      "k = 13: the species tree with max. growth constant is the caterpillar\n",
      "k = 14: the species tree with max. growth constant is the caterpillar\n",
      "k = 15: the species tree with max. growth constant is the caterpillar\n",
      "k = 16: the species tree with max. growth constant is the caterpillar\n",
      "k = 16: the species tree with min. growth constant is balanced\n",
      "k = 17: the species tree with max. growth constant is the caterpillar\n",
      "k = 18: the species tree with max. growth constant is the caterpillar\n",
      "k = 19: the species tree with max. growth constant is the caterpillar\n",
      "k = 20: the species tree with max. growth constant is the caterpillar\n",
      "k = 21: the species tree with max. growth constant is the caterpillar\n",
      "k = 22: the species tree with max. growth constant is the caterpillar\n",
      "k = 23: the species tree with max. growth constant is the caterpillar\n",
      "k = 24: the species tree with max. growth constant is the caterpillar\n",
      "k = 25: the species tree with max. growth constant is the caterpillar\n"
     ]
    }
   ],
   "source": [
    "# Checking the trees with max growth rates are caterpillar and the trees with min growth rate are balanced\n",
    "\n",
    "print('Checking, for each value of k, if the species tree with maximum (resp. minimum) growth factor is a caterpillar (resp. balanced).')\n",
    "\n",
    "def check_min_max_growth_factor(df):\n",
    "    df_min = df.idxmin(axis=1)\n",
    "    df_max = df.idxmax(axis=1)\n",
    "    for k in K_LIST:\n",
    "        if checkCaterpillar(TREES_dict[k][df_max[k]]):\n",
    "            print('k = '+str(k)+': the species tree with max. growth constant is the caterpillar')\n",
    "        if checkBalanced(TREES_dict[k][df_min[k]]):\n",
    "            print('k = '+str(k)+': the species tree with min. growth constant is balanced')\n",
    "    return((df_min,df_max))\n",
    "(UDL_MIN_GF,UDL_MAX_GF) = check_min_max_growth_factor(RESULTS_ASYMPTOTICS_U_DL)"
   ]
  },
  {
   "cell_type": "code",
   "execution_count": 63,
   "metadata": {},
   "outputs": [
    {
     "name": "stdout",
     "output_type": "stream",
     "text": [
      "Checking that for values of k for which the minimum growth factor is not given by a balanced tree, we have no balanced tree in the 100 sampled trees.\n",
      "k = 11: no balanced tree found\n",
      "k = 12: no balanced tree found\n",
      "k = 13: no balanced tree found\n",
      "k = 14: no balanced tree found\n",
      "k = 15: no balanced tree found\n",
      "k = 17: no balanced tree found\n",
      "k = 18: no balanced tree found\n",
      "k = 19: no balanced tree found\n",
      "k = 20: no balanced tree found\n",
      "k = 21: no balanced tree found\n",
      "k = 22: no balanced tree found\n",
      "k = 23: no balanced tree found\n",
      "k = 24: no balanced tree found\n",
      "k = 25: no balanced tree found\n"
     ]
    }
   ],
   "source": [
    "# List of values of k for which the minimum growth factor is given by a balanced tree\n",
    "K_LIST_MIN = [3,4,5,6,7,8,9,10,16]\n",
    "\n",
    "# Checking that for values of k for which the minimum growth factor is not obtained by a balanced tree, \n",
    "# there is no balanced tree in the sampled species trees.\n",
    "print('Checking that for values of k for which the minimum growth factor is not given by a balanced tree, we have no balanced tree in the 100 sampled trees.')\n",
    "for k in [k for k in K_LIST if k not in K_LIST_MIN]:\n",
    "    foundBalanced = -1\n",
    "    for t in range(NB_S_TREES):\n",
    "        if checkBalanced(TREES_dict[k][t]):\n",
    "            foundBalanced=t\n",
    "    if foundBalanced != -1:\n",
    "        print('k='+str(k)+' balanced tree found with growth factor '+str(RESULTS_ASYMPTOTICS_U_DL[t][k]))\n",
    "    else:\n",
    "        print('k = '+str(k)+': no balanced tree found')"
   ]
  },
  {
   "cell_type": "markdown",
   "metadata": {},
   "source": [
    "We look below at the growth factor for the caterpillar and balanced trees, to investigate how it does grow as a function of $k$.\n",
    "\n",
    "For the minimum growth rate, we fitted a line to the wgrowth rates for values of $k$ for which the tree with minimum growth rate is balanced ($k=3,4,5,6,7,8,9,10,16$). We observe that the line fits perfectly to the corresponding data points and that all other data points are above the line. \n",
    "For the maximum growth rate, we fitted a quadratic polynomial to all data points, and observe a perfect fit."
   ]
  },
  {
   "cell_type": "code",
   "execution_count": 40,
   "metadata": {},
   "outputs": [
    {
     "name": "stdout",
     "output_type": "stream",
     "text": [
      "The line fitted to the minimum growth rate data points is the line 5.5424965753468785*k-1.0054713233037729.\n"
     ]
    },
    {
     "data": {
      "image/png": "[encoded data removed]",
      "text/plain": [
       "<Figure size 864x576 with 1 Axes>"
      ]
     },
     "metadata": {},
     "output_type": "display_data"
    }
   ],
   "source": [
    "# Growth factors for k in K_LIST_MIN\n",
    "RESULTS_ASYMPTOTICS_U_DL_MIN_GF_BAL = pd.DataFrame.from_dict({k: RESULTS_ASYMPTOTICS_U_DL[UDL_MIN_GF[k]][k] for k in K_LIST_MIN}, orient='index')\n",
    "# All minimum growth factors, for all values of k\n",
    "RESULTS_ASYMPTOTICS_U_DL_MIN_GF = pd.DataFrame.from_dict({k: RESULTS_ASYMPTOTICS_U_DL[UDL_MIN_GF[k]][k] for k in K_LIST}, orient='index')\n",
    "# Fitting a line to the gowth factor for values of k for which the minimum tree size is given by a balanced tree\n",
    "m_min,p_min = np.polyfit(np.array(K_LIST_MIN),np.array(RESULTS_ASYMPTOTICS_U_DL_MIN_GF_BAL),1)\n",
    "print('The line fitted to the minimum growth rate data points is the line '+str(m_min[0])+'*k'+str(p_min[0])+'.')\n",
    "\n",
    "plt.figure(figsize=(12,8))\n",
    "plt.plot(np.array(K_LIST),np.array(RESULTS_ASYMPTOTICS_U_DL_MIN_GF), 'yo',np.array(K_LIST) , m_min*np.array(K_LIST)+p_min, '--k')\n",
    "plt.suptitle('Tree size vs. growth constant (min)',fontsize=18)\n",
    "plt.xticks(fontsize=14)\n",
    "plt.yticks(fontsize=14)\n",
    "plt.xlabel('Size', fontsize=16)\n",
    "plt.ylabel('Growth factor', fontsize=16)\n",
    "plt.tight_layout(rect=[0, 0.03, 1, 0.95])\n",
    "plt.savefig('figures/Tree_size_vs_minGF_U_DL.png')\n",
    "plt.show()"
   ]
  },
  {
   "cell_type": "code",
   "execution_count": 58,
   "metadata": {},
   "outputs": [
    {
     "name": "stdout",
     "output_type": "stream",
     "text": [
      "The polynomial fitted to the maximum growth rate data points is 0.4269778445553701*k^2+4.080528202957672*k-0.5501008397742351.\n"
     ]
    },
    {
     "data": {
      "image/png": "[encoded data removed]",
      "text/plain": [
       "<Figure size 864x576 with 1 Axes>"
      ]
     },
     "metadata": {},
     "output_type": "display_data"
    }
   ],
   "source": [
    "# All maximum growth factors, for all values of k\n",
    "RESULTS_ASYMPTOTICS_U_DL_MAX_GF = pd.DataFrame.from_dict({k: RESULTS_ASYMPTOTICS_U_DL[UDL_MAX_GF[k]][k] for k in K_LIST}, orient='index')\n",
    "# Fitting a degree 2 polynomial to the maximum growth factor\n",
    "m1_max,m2_max,p_max = np.polyfit(np.array(K_LIST),np.array(RESULTS_ASYMPTOTICS_U_DL_MAX_GF),2)\n",
    "print('The polynomial fitted to the maximum growth rate data points is '+str(m1_max[0])+'*k^2+'+str(m2_max[0])+'*k'+str(p_max[0])+'.')\n",
    "\n",
    "plt.figure(figsize=(12,8))\n",
    "plt.plot(np.array(K_LIST),np.array(RESULTS_ASYMPTOTICS_U_DL_MAX_GF), 'yo',np.array(K_LIST) , m1_max*np.array(K_LIST)*np.array(K_LIST)+m2_max*np.array(K_LIST)+p_min, '--k')\n",
    "plt.suptitle('Tree size vs. growth constant (max)',fontsize=18)\n",
    "plt.xticks(fontsize=14)\n",
    "plt.yticks(fontsize=14)\n",
    "plt.xlabel('Size', fontsize=16)\n",
    "plt.ylabel('Growth factor', fontsize=16)\n",
    "plt.tight_layout(rect=[0, 0.03, 1, 0.95])\n",
    "plt.savefig('figures/Tree_size_vs_maxGF_U_DL.png')\n",
    "plt.show()"
   ]
  },
  {
   "cell_type": "markdown",
   "metadata": {},
   "source": [
    "#### Discussion\n",
    "\n",
    "We observe that for every value of $k$ the species tree with the maximum exponential growth factor is the caterpillar tree, and thet the growth factor grows quadratically as a function of $k$.\n",
    "\n",
    "We also observe that for all values of $k$ for which the set of sampled species trees contains a balanced tree, the minimum growth factor is attained with a balanced tree. For these values of $k$ we can fit a line to the minimum growth factor, while for all other values of $k$ the minimum growth factor is above this line.\n",
    "\n",
    "This set of observations supports conjecture 4.1 of the paper."
   ]
  },
  {
   "cell_type": "markdown",
   "metadata": {},
   "source": [
    "## Estimating the growth factor in an arbitrary model\n",
    "We estimate the growth factor from the counting sequence using the formula\n",
    "$$\\alpha_S \\simeq e^{\\left(\\frac{\\ln\\left(n^{3/2}h_S(n)\\right)}{n}\\right)}.$$"
   ]
  },
  {
   "cell_type": "code",
   "execution_count": null,
   "metadata": {},
   "outputs": [],
   "source": [
    "def estimate_growth_constant_1(m,k,n):\n",
    "    RESULTS_COUNTING_m_k_n = [ ]\n",
    "    RESULTS_COUNTING_m_k_n_aux = RESULTS_COUNTING.loc[(m,k,n)]\n",
    "    for i in RESULTS_COUNTING_m_k_n_aux.keys():\n",
    "        RESULTS_COUNTING_m_k_n += RESULTS_COUNTING_m_k_n_aux[i]\n",
    "    RESULTS_COUNTING_m_k_n_EXP_GROWTH = []\n",
    "    for c in RESULTS_COUNTING_m_k_n:\n",
    "        RESULTS_COUNTING_m_k_n_EXP_GROWTH.append(math.exp(math.log(n*math.sqrt(n)*c)/n))\n",
    "    return(RESULTS_COUNTING_m_k_n_EXP_GROWTH)\n",
    "\n",
    "RESULTS_ASYMPTOTICS_U_DLa_1 = pd.DataFrame({k: estimate_growth_constant_1(('U','DL'),k,50) for k in K_LIST})\n",
    "RESULTS_ASYMPTOTICS_R_DL_1  = pd.DataFrame({k: estimate_growth_constant_1(('R','DL'),k,50) for k in K_LIST})\n",
    "RESULTS_ASYMPTOTICS_U_DLT_1 = pd.DataFrame({k: estimate_growth_constant_1(('U','DLT'),k,50) for k in K_LIST})\n",
    "RESULTS_ASYMPTOTICS_R_DLT_1 = pd.DataFrame({k: estimate_growth_constant_1(('R','DLT'),k,50) for k in K_LIST})"
   ]
  },
  {
   "cell_type": "code",
   "execution_count": null,
   "metadata": {},
   "outputs": [],
   "source": [
    "# Computing the ratio between the estimated and the exact growth constants\n",
    "RATIO_RESULTS_ASYMPTOTICS_U_DL_1 = RESULTS_ASYMPTOTICS_U_DL.transpose() / RESULTS_ASYMPTOTICS_U_DLa_1 "
   ]
  },
  {
   "cell_type": "code",
   "execution_count": null,
   "metadata": {
    "scrolled": false
   },
   "outputs": [],
   "source": [
    "plt.figure()\n",
    "ax_asympt4a = RESULTS_ASYMPTOTICS_U_DLa_1.plot(kind='box', grid=True, return_type='axes', figsize=(12,8), title='Estimated growth factor in the UDL model', fontsize=14)\n",
    "ax_asympt4a.title.set_size(18)\n",
    "ax_asympt4a.set_ylabel('Growth factor', fontsize=16)\n",
    "ax_asympt4a.set_xlabel('Species tree size k', fontsize=16)\n",
    "plt.savefig('figures/estimated_growth_factor_U_DL.png')\n",
    "plt.show()\n",
    "\n",
    "plt.figure()\n",
    "ax_asympt4aa = RATIO_RESULTS_ASYMPTOTICS_U_DL_1.plot(kind='box', grid=True, return_type='axes', figsize=(12,8), title='Ratio exact growth factor/estimated growth factor  in the UDL model', fontsize=14)\n",
    "ax_asympt4aa.title.set_size(18)\n",
    "ax_asympt4aa.set_ylabel('Ratio exact / estimated growth factor', fontsize=16)\n",
    "ax_asympt4aa.set_xlabel('Species tree size k', fontsize=16)\n",
    "plt.savefig('figures/ratio_exact_estimated_growth_factor_U_DL.png')\n",
    "plt.show()\n",
    "\n",
    "plt.figure()\n",
    "ax_asympt4b = RESULTS_ASYMPTOTICS_U_DLT_1.plot(kind='box', grid=True, return_type='axes', figsize=(12,8), title='Estimated growth factor in the UDLT model', fontsize=14)\n",
    "ax_asympt4b.title.set_size(18)\n",
    "ax_asympt4b.set_ylabel('Growth factor', fontsize=16)\n",
    "ax_asympt4b.set_xlabel('Species tree size k', fontsize=16)\n",
    "plt.savefig('figures/estimated_growth_factor_U_DLT.png')\n",
    "plt.show()\n",
    "\n",
    "plt.figure()\n",
    "ax_asympt4c = RESULTS_ASYMPTOTICS_R_DLT_1.plot(kind='box', grid=True, return_type='axes', figsize=(12,8), title='Estimated growth factor in the RDLT model', fontsize=14)\n",
    "ax_asympt4c.title.set_size(18)\n",
    "ax_asympt4c.set_ylabel('Growth factor', fontsize=16)\n",
    "ax_asympt4c.set_xlabel('Species tree size k', fontsize=16)\n",
    "plt.savefig('figures/estimated_growth_factor_R_DLT.png')\n",
    "plt.show()"
   ]
  },
  {
   "cell_type": "markdown",
   "metadata": {},
   "source": [
    "We can make a few observations. \n",
    "\n",
    "The first one is the very large increase of the estimated growth constant in the U-DLT model compared to the U-DL mode.\n",
    "\n",
    "The second one is that, when comparing the U-DL and R-DL models, the impact of the ranking is that it reduce the spread of the estimate growth constants.\n",
    "\n",
    "Last, and extremely striking, in the R-DLT model, the growth constant seems to almost not vary. It looks like tin this model, the species tree topology does not matter at all."
   ]
  },
  {
   "cell_type": "markdown",
   "metadata": {},
   "source": [
    "## Ratio DLT-histories / DL-histories\n",
    "\n",
    "Last, we compute the ratio between the number of DLT-histories and the number of DL-histories in the ranked and unranked models."
   ]
  },
  {
   "cell_type": "code",
   "execution_count": null,
   "metadata": {},
   "outputs": [],
   "source": [
    "RESULTS_aux = {k:{n:{t:0 for t in S_TREES_INDEX} for n in N_LIST_REDUCED} for k in K_LIST_REDUCED}\n",
    "for k in K_LIST_REDUCED:\n",
    "    for n in N_LIST_REDUCED:\n",
    "        for t in S_TREES_INDEX:\n",
    "            dlth = RESULTS_COUNTING.at[(('U','DLT'),k,n),t][0]\n",
    "            dlh  = RESULTS_COUNTING.at[(('U','DL'),k,n),t][0]\n",
    "            RESULTS_aux[k][n][t] = dlth/dlh\n",
    "RATIOS_U_DLT_DL = pd.DataFrame.from_dict({(k,n): RESULTS_aux[k][n]\n",
    "                                        for k in RESULTS_aux.keys() \n",
    "                                        for n in RESULTS_aux[k].keys()},\n",
    "                                        orient='index')\n",
    "\n",
    "RESULTS_aux = {k:{n:{(t,r): 0 for r in R_LIST for t in S_TREES_INDEX} for n in N_LIST_REDUCED} for k in K_LIST_REDUCED}\n",
    "for k in K_LIST_REDUCED:\n",
    "    for n in N_LIST_REDUCED:\n",
    "        for t in S_TREES_INDEX:\n",
    "            for r in R_LIST:\n",
    "                dlth = RESULTS_COUNTING.at[(('R','DLT'),k,n),t][r-1]\n",
    "                dlh  = RESULTS_COUNTING.at[(('R','DL'),k,n),t][r-1]\n",
    "                RESULTS_aux[k][n][(t,r)] = dlth/dlh\n",
    "RATIOS_R_DLT_DL = pd.DataFrame.from_dict({(k,n): RESULTS_aux[k][n]\n",
    "                                        for k in RESULTS_aux.keys() \n",
    "                                        for n in RESULTS_aux[k].keys()},\n",
    "                                        orient='index')"
   ]
  },
  {
   "cell_type": "code",
   "execution_count": null,
   "metadata": {
    "scrolled": false
   },
   "outputs": [],
   "source": [
    "plt.figure()\n",
    "ax_ratio1a = RATIOS_U_DLT_DL.transpose().plot(kind='box', grid=True, figsize=(12,8), return_type='axes', title='Unranked models (UDLT/UDL)', fontsize=14)\n",
    "ax_ratio1a.title.set_size(18)\n",
    "ax_ratio1a.set_yscale('log')\n",
    "ax_ratio1a.set_ylabel('Ratio DLT histories / DL histories', fontsize=16)\n",
    "plt.xticks(rotation=45)\n",
    "ax_ratio1a.set_xlabel('(k=species tree size, n=history size)', fontsize=16)\n",
    "plt.savefig('figures/ratio_UDLT_UDL_per_tree.png')\n",
    "plt.show()\n",
    "\n",
    "plt.figure()\n",
    "ax_ratio1b = RATIOS_R_DLT_DL.transpose().plot(kind='box', grid=True, figsize=(12,8), return_type='axes', title='Ranked models (RDLT/RDL)', fontsize=14)\n",
    "ax_ratio1b.title.set_size(18)\n",
    "ax_ratio1b.set_yscale('log')\n",
    "ax_ratio1b.set_ylabel('Ratio DLT histories / DL histories', fontsize=16)\n",
    "plt.xticks(rotation=45)\n",
    "ax_ratio1b.set_xlabel('(k=species tree size, n=history size)', fontsize=16)\n",
    "plt.savefig('figures/ratio_RDLT_RDL_per_tree.png')\n",
    "plt.show()"
   ]
  },
  {
   "cell_type": "markdown",
   "metadata": {},
   "source": [
    "We can observe again the impact of adding transfers in a model, that results in a large increase of the number of histories."
   ]
  },
  {
   "cell_type": "markdown",
   "metadata": {},
   "source": [
    "## Score distribution from sampling\n",
    "\n",
    "For each of the htree models UDL, UDLT, RDLT, we considered $(k,n)=(8,10),(8,15),(16,20),(16,30)$ and for each parameter setting we generated 5 random species trees (plus ranking in the RDLT model) and $10,000$ random histories. We show the distribution of the number of duplications, losses, HGTs and score (defined as the sum of the three kinds of events)."
   ]
  },
  {
   "cell_type": "code",
   "execution_count": null,
   "metadata": {},
   "outputs": [],
   "source": [
    "def read_scores(k,n,m,s):\n",
    "    RESULTS_SCORES_aux  = {}\n",
    "    with gzip.open(PREFIX_SCORES+'_'+str(k)+'_'+str(n)+'_'+m+'.gz', 'r') as f:\n",
    "        reader = csv.reader(io.TextIOWrapper(f, newline=\"\"),delimiter='\\t')        \n",
    "        for row in reader:\n",
    "            if row[0][0] == '#': #Species tree\n",
    "                treeIndex = int(row[0].replace('# S_',''))\n",
    "                RESULTS_SCORES_aux[treeIndex]  = {'D':[], 'L':[], 'T':[], 'A':[]}\n",
    "                sampleIndex = 0\n",
    "            else:\n",
    "                row1 = row[0].rstrip().split(' ')\n",
    "                D = int(row1[k].split(':')[1])\n",
    "                L = int(row1[k+1].split(':')[1])\n",
    "                T = int(row1[k+2].split(':')[1])\n",
    "                RESULTS_SCORES_aux[treeIndex]['D'].append(D)\n",
    "                RESULTS_SCORES_aux[treeIndex]['L'].append(L)\n",
    "                RESULTS_SCORES_aux[treeIndex]['T'].append(T)\n",
    "                RESULTS_SCORES_aux[treeIndex]['A'].append(D+L+T)\n",
    "                sampleIndex += 1\n",
    "                \n",
    "    RESULTS_SCORES = pd.DataFrame.from_dict({(t): RESULTS_SCORES_aux[t]\n",
    "                                            for t in RESULTS_SCORES_aux.keys()},\n",
    "                                            orient='index')\n",
    "    return(RESULTS_SCORES)"
   ]
  },
  {
   "cell_type": "code",
   "execution_count": null,
   "metadata": {},
   "outputs": [],
   "source": [
    "SCORES_16_30_UDL  = read_scores(16,30,'U_DL',10000)\n",
    "SCORES_16_30_UDLT = read_scores(16,30,'U_DLT',10000)\n",
    "SCORES_16_30_RDLT = read_scores(16,30,'R_DLT',10000)"
   ]
  },
  {
   "cell_type": "code",
   "execution_count": null,
   "metadata": {},
   "outputs": [],
   "source": [
    "# Score distribution UDL, UDLT, RDLT\n",
    "\n",
    "plt.figure()\n",
    "fig = plt.figure(figsize=(12,8))\n",
    "ax  = fig.add_subplot(111)    \n",
    "plt.title('Score distribution per species tree, UDL model', fontsize=14)\n",
    "_ = plt.boxplot(np.array(SCORES_16_30_UDL['A']))\n",
    "ax.title.set_size(18)\n",
    "ax.set_xlabel('Species tree', fontsize=16)\n",
    "ax.set_ylabel('Score distribution', fontsize=16)\n",
    "plt.savefig('figures/scores_16_30_UDL.png')\n",
    "plt.show()\n",
    "\n",
    "plt.figure()\n",
    "fig = plt.figure(figsize=(12,8))\n",
    "ax  = fig.add_subplot(111)    \n",
    "plt.title('Score distribution per species tree, UDLT model', fontsize=14)\n",
    "_ = plt.boxplot(np.array(SCORES_16_30_UDLT['A']))\n",
    "ax.title.set_size(18)\n",
    "ax.set_xlabel('Species tree', fontsize=16)\n",
    "ax.set_ylabel('Score distribution', fontsize=16)\n",
    "plt.savefig('figures/scores_16_30_UDLT.png')\n",
    "plt.show()\n",
    "\n",
    "plt.figure()\n",
    "fig = plt.figure(figsize=(12,8))\n",
    "ax  = fig.add_subplot(111)    \n",
    "plt.title('Score distribution per species tree, RDLT model', fontsize=14)\n",
    "_ = plt.boxplot(np.array(SCORES_16_30_RDLT['A']))\n",
    "ax.title.set_size(18)\n",
    "ax.set_xlabel('Species tree', fontsize=16)\n",
    "ax.set_ylabel('Score distribution', fontsize=16)\n",
    "plt.savefig('figures/scores_16_30_RDLT.png')\n",
    "plt.show()"
   ]
  },
  {
   "cell_type": "code",
   "execution_count": null,
   "metadata": {
    "scrolled": false
   },
   "outputs": [],
   "source": [
    "# Duplications/HGTs distribution UDL, UDLT, RDLT\n",
    "\n",
    "plt.figure()\n",
    "fig = plt.figure(figsize=(12,8))\n",
    "ax  = fig.add_subplot(111)    \n",
    "plt.title('Duplication number distribution per species tree, UDL model', fontsize=14)\n",
    "_ = plt.boxplot(np.array(SCORES_16_30_UDL['D']))\n",
    "ax.title.set_size(18)\n",
    "ax.set_xlabel('Species tree', fontsize=16)\n",
    "ax.set_ylabel('Dup. number distribution', fontsize=16)\n",
    "plt.savefig('figures/duplications_16_30_UDL.png')\n",
    "plt.show()\n",
    "\n",
    "plt.figure()\n",
    "fig = plt.figure(figsize=(12,8))\n",
    "ax  = fig.add_subplot(111)    \n",
    "plt.title('Duplication number distribution per species tree, UDLT model', fontsize=14)\n",
    "_ = plt.boxplot(np.array(SCORES_16_30_UDLT['D']))\n",
    "ax.title.set_size(18)\n",
    "ax.set_xlabel('Species tree', fontsize=16)\n",
    "ax.set_ylabel('Dup. number distribution', fontsize=16)\n",
    "plt.savefig('figures/duplications_16_30_UDLT.png')\n",
    "plt.show()\n",
    "\n",
    "plt.figure()\n",
    "fig = plt.figure(figsize=(12,8))\n",
    "ax  = fig.add_subplot(111)    \n",
    "plt.title('HGTn number distribution per species tree, UDLT model', fontsize=14)\n",
    "_ = plt.boxplot(np.array(SCORES_16_30_UDLT['T']))\n",
    "ax.title.set_size(18)\n",
    "ax.set_xlabel('Species tree', fontsize=16)\n",
    "ax.set_ylabel('HGT number distribution', fontsize=16)\n",
    "plt.savefig('figures/HGT_16_30_UDLT.png')\n",
    "plt.show()\n",
    "\n",
    "plt.figure()\n",
    "fig = plt.figure(figsize=(12,8))\n",
    "ax  = fig.add_subplot(111)    \n",
    "plt.title('Duplication number distribution per species tree, RDLT model', fontsize=14)\n",
    "_ = plt.boxplot(np.array(SCORES_16_30_RDLT['D']))\n",
    "ax.title.set_size(18)\n",
    "ax.set_xlabel('Species tree', fontsize=16)\n",
    "ax.set_ylabel('Dup. number distribution', fontsize=16)\n",
    "plt.savefig('figures/duplications_16_30_RDLT.png')\n",
    "plt.show()\n",
    "\n",
    "plt.figure()\n",
    "fig = plt.figure(figsize=(12,8))\n",
    "ax  = fig.add_subplot(111)    \n",
    "plt.title('HGTn number distribution per species tree, RDLT model', fontsize=14)\n",
    "_ = plt.boxplot(np.array(SCORES_16_30_RDLT['T']))\n",
    "ax.title.set_size(18)\n",
    "ax.set_xlabel('Species tree', fontsize=16)\n",
    "ax.set_ylabel('HGT number distribution', fontsize=16)\n",
    "plt.savefig('figures/HGT_16_30_RDLT.png')\n",
    "plt.show()"
   ]
  },
  {
   "cell_type": "code",
   "execution_count": null,
   "metadata": {},
   "outputs": [],
   "source": []
  }
 ],
 "metadata": {
  "kernelspec": {
   "display_name": "Python 3",
   "language": "python",
   "name": "python3"
  },
  "language_info": {
   "codemirror_mode": {
    "name": "ipython",
    "version": 3
   },
   "file_extension": ".py",
   "mimetype": "text/x-python",
   "name": "python",
   "nbconvert_exporter": "python",
   "pygments_lexer": "ipython3",
   "version": "3.6.7"
  }
 },
 "nbformat": 4,
 "nbformat_minor": 2
}
