{
 "cells": [
  {
   "cell_type": "markdown",
   "metadata": {},
   "source": [
    "# Counting DL and DLT histories: paper figures\n",
    "### Cedric Chauve, 01/02/2019"
   ]
  },
  {
   "cell_type": "markdown",
   "metadata": {},
   "source": [
    "## Introduction\n",
    "\n",
    "This notebook contains the code used to analyse our experimental results and generate the figure in the paper."
   ]
  },
  {
   "cell_type": "code",
   "execution_count": 4,
   "metadata": {},
   "outputs": [],
   "source": [
    "import csv\n",
    "import pandas as pd\n",
    "import numpy as np\n",
    "import matplotlib.pyplot as plt\n",
    "import gzip\n",
    "import io\n",
    "import math"
   ]
  },
  {
   "cell_type": "code",
   "execution_count": 40,
   "metadata": {},
   "outputs": [],
   "source": [
    "# Parameters\n",
    "\n",
    "# Number of species trees per size\n",
    "NB_S_TREES    = 100\n",
    "S_TREES_INDEX = [i for i in range(0,NB_S_TREES)]\n",
    "# Evolutionary models\n",
    "EVOL_MODELS = [('U','DL'),('U','DLT'),('R','DL'),('R','DLT')]\n",
    "# Species tree sizes\n",
    "K_MIN = 3\n",
    "K_MAX = 32\n",
    "K_LIST = [k for k in range(K_MIN,K_MAX+1)]\n",
    "# Histories sizes\n",
    "N_MIN = 1\n",
    "N_MAX = 50\n",
    "N_LIST = [n for n in range(N_MIN,N_MAX+1)]\n",
    "# Paths to results\n",
    "PREFIX_UNRANKED    = '../../exp/09-01-2019-exp1-redone/results/exp1a'\n",
    "PREFIX_RANKED      = '../../exp/01-02-2019-exp1-ranking/results/exp1'\n",
    "PREFIX_ASYMPTOTICS = '../../exp/29-01-2019-exp1-redone-2/systems/exp1a'"
   ]
  },
  {
   "cell_type": "code",
   "execution_count": 41,
   "metadata": {},
   "outputs": [],
   "source": [
    "# TMP\n",
    "K_MIN = 3\n",
    "K_MAX = 5\n",
    "K_LIST = [k for k in range(K_MIN,K_MAX+1)]"
   ]
  },
  {
   "cell_type": "code",
   "execution_count": 42,
   "metadata": {},
   "outputs": [],
   "source": [
    "# Reading the exact counting results\n",
    "# Format: RESULTS_ALL[evol_model][s][n][tree_index] is \n",
    "# the list of the number of histories of size n for tree tree_index of size s in model evol_model \n",
    "# the list is of size 1 if the tree is unranked\n",
    "\n",
    "RESULTS_aux = {m:{s:{n:{t:[] for t in S_TREES_INDEX} for n in N_LIST}  for s in K_LIST} for m in EVOL_MODELS}\n",
    "    \n",
    "def read_counting_file(fileName,k):\n",
    "    with gzip.open(fileName, 'r') as f:\n",
    "        reader = csv.reader(io.TextIOWrapper(f, newline=\"\"),delimiter='\\t')        \n",
    "        for row in reader:\n",
    "            if row[0][0]!='#':\n",
    "                model     = (row[2],row[3])\n",
    "                treeIndex = int(row[1])\n",
    "                row5      = row[5].split()\n",
    "                for n in N_LIST:\n",
    "                    RESULTS_aux[model][k][n][treeIndex].append(int(row5[n-1]))\n",
    "    \n",
    "for k in K_LIST:\n",
    "    read_counting_file(PREFIX_UNRANKED+'_'+str(k)+'.gz',k)\n",
    "    read_counting_file(PREFIX_RANKED+'_'+str(k)+'.gz',k)\n",
    "                            \n",
    "RESULTS_COUNTING = pd.DataFrame.from_dict({(m,k,n): RESULTS_aux[m][k][n]\n",
    "                                            for m in RESULTS_aux.keys() \n",
    "                                            for k in RESULTS_aux[m].keys()\n",
    "                                            for n in RESULTS_aux[m][k].keys()},\n",
    "                                            orient='index')"
   ]
  },
  {
   "cell_type": "code",
   "execution_count": 51,
   "metadata": {},
   "outputs": [],
   "source": [
    "# Reading the asymptotics results for the model (U,DL)\n",
    "\n",
    "RESULTS_aux = {('U','DL'):{k:{t:0 for t in S_TREES_INDEX}  for k in K_LIST}}\n",
    "for k in K_LIST:\n",
    "    dataAsympt = open(PREFIX_ASYMPTOTICS+'_'+str(k)+'_asy').readlines()\n",
    "    for row in dataAsympt:\n",
    "        if row[0] != '#':\n",
    "            row1        = row.rstrip().split('\\t')\n",
    "            treeIndex   = int(row1[1])\n",
    "            asymptotics =  float(row1[2])\n",
    "            RESULTS_aux[('U','DL')][k][treeIndex] = asymptotics\n",
    "RESULTS_ASYMPTOTICS = pd.DataFrame.from_dict({(m,k): RESULTS_aux[m][k]\n",
    "                                                for m in RESULTS_aux.keys() \n",
    "                                                for k in RESULTS_aux[m].keys()},\n",
    "                                                orient='index')"
   ]
  },
  {
   "cell_type": "code",
   "execution_count": 52,
   "metadata": {},
   "outputs": [
    {
     "data": {
      "text/html": [
       "<div>\n",
       "<style scoped>\n",
       "    .dataframe tbody tr th:only-of-type {\n",
       "        vertical-align: middle;\n",
       "    }\n",
       "\n",
       "    .dataframe tbody tr th {\n",
       "        vertical-align: top;\n",
       "    }\n",
       "\n",
       "    .dataframe thead th {\n",
       "        text-align: right;\n",
       "    }\n",
       "</style>\n",
       "<table border=\"1\" class=\"dataframe\">\n",
       "  <thead>\n",
       "    <tr style=\"text-align: right;\">\n",
       "      <th></th>\n",
       "      <th></th>\n",
       "      <th>0</th>\n",
       "      <th>1</th>\n",
       "      <th>2</th>\n",
       "      <th>3</th>\n",
       "      <th>4</th>\n",
       "      <th>5</th>\n",
       "      <th>6</th>\n",
       "      <th>7</th>\n",
       "      <th>8</th>\n",
       "      <th>9</th>\n",
       "      <th>...</th>\n",
       "      <th>90</th>\n",
       "      <th>91</th>\n",
       "      <th>92</th>\n",
       "      <th>93</th>\n",
       "      <th>94</th>\n",
       "      <th>95</th>\n",
       "      <th>96</th>\n",
       "      <th>97</th>\n",
       "      <th>98</th>\n",
       "      <th>99</th>\n",
       "    </tr>\n",
       "  </thead>\n",
       "  <tbody>\n",
       "    <tr>\n",
       "      <th rowspan=\"3\" valign=\"top\">(U, DL)</th>\n",
       "      <th>3</th>\n",
       "      <td>15.722796</td>\n",
       "      <td>15.722796</td>\n",
       "      <td>15.722796</td>\n",
       "      <td>15.722796</td>\n",
       "      <td>15.722796</td>\n",
       "      <td>15.722796</td>\n",
       "      <td>15.722796</td>\n",
       "      <td>15.722796</td>\n",
       "      <td>15.722796</td>\n",
       "      <td>15.722796</td>\n",
       "      <td>...</td>\n",
       "      <td>15.722796</td>\n",
       "      <td>15.722796</td>\n",
       "      <td>15.722796</td>\n",
       "      <td>15.722796</td>\n",
       "      <td>15.722796</td>\n",
       "      <td>15.722796</td>\n",
       "      <td>15.722796</td>\n",
       "      <td>15.722796</td>\n",
       "      <td>15.722796</td>\n",
       "      <td>15.722796</td>\n",
       "    </tr>\n",
       "    <tr>\n",
       "      <th>4</th>\n",
       "      <td>22.687279</td>\n",
       "      <td>20.753034</td>\n",
       "      <td>20.753034</td>\n",
       "      <td>22.687279</td>\n",
       "      <td>20.753034</td>\n",
       "      <td>20.753034</td>\n",
       "      <td>22.687279</td>\n",
       "      <td>20.753034</td>\n",
       "      <td>22.687279</td>\n",
       "      <td>20.753034</td>\n",
       "      <td>...</td>\n",
       "      <td>20.753034</td>\n",
       "      <td>22.687279</td>\n",
       "      <td>20.753034</td>\n",
       "      <td>22.687279</td>\n",
       "      <td>22.687279</td>\n",
       "      <td>20.753034</td>\n",
       "      <td>22.687279</td>\n",
       "      <td>20.753034</td>\n",
       "      <td>22.687279</td>\n",
       "      <td>22.687279</td>\n",
       "    </tr>\n",
       "    <tr>\n",
       "      <th>5</th>\n",
       "      <td>30.527541</td>\n",
       "      <td>26.934364</td>\n",
       "      <td>26.934364</td>\n",
       "      <td>26.934364</td>\n",
       "      <td>30.527541</td>\n",
       "      <td>26.934364</td>\n",
       "      <td>30.527541</td>\n",
       "      <td>29.038330</td>\n",
       "      <td>30.527541</td>\n",
       "      <td>26.934364</td>\n",
       "      <td>...</td>\n",
       "      <td>29.038330</td>\n",
       "      <td>29.038330</td>\n",
       "      <td>26.934364</td>\n",
       "      <td>30.527541</td>\n",
       "      <td>26.934364</td>\n",
       "      <td>29.038330</td>\n",
       "      <td>29.038330</td>\n",
       "      <td>30.527541</td>\n",
       "      <td>26.934364</td>\n",
       "      <td>26.934364</td>\n",
       "    </tr>\n",
       "  </tbody>\n",
       "</table>\n",
       "<p>3 rows × 100 columns</p>\n",
       "</div>"
      ],
      "text/plain": [
       "                  0          1          2          3          4          5   \\\n",
       "(U, DL) 3  15.722796  15.722796  15.722796  15.722796  15.722796  15.722796   \n",
       "        4  22.687279  20.753034  20.753034  22.687279  20.753034  20.753034   \n",
       "        5  30.527541  26.934364  26.934364  26.934364  30.527541  26.934364   \n",
       "\n",
       "                  6          7          8          9     ...             90  \\\n",
       "(U, DL) 3  15.722796  15.722796  15.722796  15.722796    ...      15.722796   \n",
       "        4  22.687279  20.753034  22.687279  20.753034    ...      20.753034   \n",
       "        5  30.527541  29.038330  30.527541  26.934364    ...      29.038330   \n",
       "\n",
       "                  91         92         93         94         95         96  \\\n",
       "(U, DL) 3  15.722796  15.722796  15.722796  15.722796  15.722796  15.722796   \n",
       "        4  22.687279  20.753034  22.687279  22.687279  20.753034  22.687279   \n",
       "        5  29.038330  26.934364  30.527541  26.934364  29.038330  29.038330   \n",
       "\n",
       "                  97         98         99  \n",
       "(U, DL) 3  15.722796  15.722796  15.722796  \n",
       "        4  20.753034  22.687279  22.687279  \n",
       "        5  30.527541  26.934364  26.934364  \n",
       "\n",
       "[3 rows x 100 columns]"
      ]
     },
     "execution_count": 52,
     "metadata": {},
     "output_type": "execute_result"
    }
   ],
   "source": [
    "RESULTS_ASYMPTOTICS"
   ]
  },
  {
   "cell_type": "code",
   "execution_count": 94,
   "metadata": {},
   "outputs": [],
   "source": [
    "RATIOS_ALL                          = RESULTS_1_ALL.applymap(lambda x: max(x)/min(x))\n",
    "RATIOS_ALL_AVG_STD                  = pd.concat([pd.DataFrame(RATIOS_ALL.mean(axis=1),columns=['max/min:avg']), pd.DataFrame(RATIOS_ALL.std(axis=1),columns=['max/min:std'])], axis=1)"
   ]
  },
  {
   "cell_type": "code",
   "execution_count": 127,
   "metadata": {},
   "outputs": [
    {
     "data": {
      "text/plain": [
       "<Figure size 432x288 with 0 Axes>"
      ]
     },
     "metadata": {},
     "output_type": "display_data"
    },
    {
     "data": {
      "image/png": "[encoded data removed]",
      "text/plain": [
       "<Figure size 864x576 with 1 Axes>"
      ]
     },
     "metadata": {},
     "output_type": "display_data"
    }
   ],
   "source": [
    "# Creating boxplots\n",
    "\n",
    "plt.figure()\n",
    "ax1 = pd.DataFrame(RATIOS_ALL_AVG_STD['max/min:avg']).transpose().plot(kind='box', grid=True, return_type='axes', figsize=(12,8), title='Ratio number of DLT-histories over number of DL-histories')\n",
    "ax1.set_ylabel('Ratio')\n",
    "ax1.set_xlabel('(k,n)')\n",
    "plt.xticks(rotation=45)\n",
    "plt.savefig('ratio_DLT_DL.png')\n",
    "plt.show()"
   ]
  },
  {
   "cell_type": "code",
   "execution_count": null,
   "metadata": {},
   "outputs": [],
   "source": []
  }
 ],
 "metadata": {
  "kernelspec": {
   "display_name": "Python 3",
   "language": "python",
   "name": "python3"
  },
  "language_info": {
   "codemirror_mode": {
    "name": "ipython",
    "version": 3
   },
   "file_extension": ".py",
   "mimetype": "text/x-python",
   "name": "python",
   "nbconvert_exporter": "python",
   "pygments_lexer": "ipython3",
   "version": "3.6.5"
  }
 },
 "nbformat": 4,
 "nbformat_minor": 2
}
